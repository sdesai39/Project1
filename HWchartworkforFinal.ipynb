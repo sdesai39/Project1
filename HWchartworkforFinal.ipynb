{
 "cells": [
  {
   "cell_type": "code",
   "execution_count": null,
   "metadata": {},
   "outputs": [],
   "source": [
    "import pandas as pd\n",
    "import numpy as np\n",
    "import datetime\n",
    "import matplotlib.pyplot as plt\n",
    "import matplotlib.image as mpimg\n",
    "import random\n",
    "import re\n",
    "\n",
    "random.seed(8)\n",
    "\n",
    "read_file = \"parking-citations.csv\"\n",
    "n = sum(1 for line in open(read_file)) - 1\n",
    "s = 5000\n",
    "skip = sorted(random.sample(range(1, n+1), n-s))\n",
    "file_df = pd.read_csv(read_file, skiprows=skip)\n",
    "file_df.head()"
   ]
  },
  {
   "cell_type": "code",
   "execution_count": null,
   "metadata": {},
   "outputs": [],
   "source": [
    "#DataFrame created from original information\n",
    "hwdf = file_df.drop(columns = [\"Ticket number\", \"Meter Id\", \"Marked Time\", \"Plate Expiry Date\", \"VIN\", \"Route\",\n",
    "                               \"Agency\", \"Violation code\"])\n",
    "hwdf.head()"
   ]
  },
  {
   "cell_type": "code",
   "execution_count": null,
   "metadata": {},
   "outputs": [],
   "source": [
    "new_data = hwdf.dropna(axis = 0, how ='any')\n",
    "new_data.head()"
   ]
  },
  {
   "cell_type": "code",
   "execution_count": null,
   "metadata": {},
   "outputs": [],
   "source": [
    "#with the help of Sean and python library \"re\"\n",
    "datetimelist = []  \n",
    "year = []\n",
    "month = []\n",
    "day = []\n",
    "\n",
    "yearmonth = []\n",
    "for item in new_data['Issue Date']:\n",
    "    #legacy method\n",
    "    #d1 = datetime.datetime.strptime(str(item),\"%Y-%m-%dT%H:%M:%S\")\n",
    "    \n",
    "    #different method\n",
    "    d2 = re.split(\"T\",str(item))\n",
    "    splittedData = re.split(\"-\",str(d2[0]))\n",
    "    year.append(splittedData[0])\n",
    "    month.append(splittedData[1])\n",
    "    day.append(splittedData[2])\n",
    "    yearmonth.append(splittedData[0] + splittedData[1])\n",
    "    datetimelist.append(d2[0])\n",
    "new_data['Date'] = datetimelist\n",
    "new_data[\"Year\"] = year\n",
    "new_data[\"month\"] = month\n",
    "new_data[\"day\"] = day\n",
    "new_data[\"yearmonth\"] = yearmonth\n",
    "\n",
    "new_data.head()"
   ]
  },
  {
   "cell_type": "code",
   "execution_count": null,
   "metadata": {},
   "outputs": [],
   "source": [
    "sorted_df = new_data.sort_values(by=[\"yearmonth\"],ascending=True)\n",
    "sorted_df.head(10)"
   ]
  },
  {
   "cell_type": "code",
   "execution_count": null,
   "metadata": {},
   "outputs": [],
   "source": [
    "#trying to get numbers by year and month for seperate charts\n",
    "yearthenmonth_group = sorted_df.groupby(['Year', 'month'])\n",
    "\n",
    "# Count how many times each appears in the group\n",
    "count_yrthenmonth = yearthenmonth_group.count()"
   ]
  },
  {
   "cell_type": "code",
   "execution_count": null,
   "metadata": {},
   "outputs": [],
   "source": [
    "#drop all columns but one for plotting\n",
    "chart_data_df = count_yrthenmonth.drop(columns = [\"Issue time\", \"RP State Plate\", \"Make\", \"Body Style\", \"Color\", \"Location\",\n",
    "                               \"Violation Description\", \"Fine amount\", \"Latitude\", \"Longitude\", \"Date\", \"day\", \"yearmonth\"])\n",
    "chart_data_df.head()"
   ]
  },
  {
   "cell_type": "code",
   "execution_count": null,
   "metadata": {},
   "outputs": [],
   "source": [
    "chart_2015 = chart_data_df.loc[\"2015\", \"Issue Date\"]\n",
    "chart_2016 = chart_data_df.loc[\"2016\", \"Issue Date\"]\n",
    "chart_2017 = chart_data_df.loc[\"2017\", \"Issue Date\"]\n",
    "chart_2018 = chart_data_df.loc[\"2018\", \"Issue Date\"]\n",
    "chart_2019 = chart_data_df.loc[\"2019\", \"Issue Date\"]"
   ]
  },
  {
   "cell_type": "code",
   "execution_count": null,
   "metadata": {},
   "outputs": [],
   "source": [
    "chart_2015.plot(label='2015')\n",
    "chart_2016.plot(label='2016')\n",
    "chart_2017.plot(label='2017')\n",
    "chart_2018.plot(label='2018')\n",
    "chart_2019.plot(label='2019')\n",
    "\n",
    "plt.xlabel(\"Monthly Timeframe\")\n",
    "plt.ylabel(\"Number of Citations\")\n",
    "\n",
    "plt.legend()\n",
    "\n",
    "plt.show()"
   ]
  },
  {
   "cell_type": "code",
   "execution_count": null,
   "metadata": {},
   "outputs": [],
   "source": []
  },
  {
   "cell_type": "code",
   "execution_count": null,
   "metadata": {},
   "outputs": [],
   "source": []
  }
 ],
 "metadata": {
  "kernelspec": {
   "display_name": "Python 3",
   "language": "python",
   "name": "python3"
  },
  "language_info": {
   "codemirror_mode": {
    "name": "ipython",
    "version": 3
   },
   "file_extension": ".py",
   "mimetype": "text/x-python",
   "name": "python",
   "nbconvert_exporter": "python",
   "pygments_lexer": "ipython3",
   "version": "3.7.1"
  }
 },
 "nbformat": 4,
 "nbformat_minor": 2
}
