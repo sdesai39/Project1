{
 "cells": [
  {
   "cell_type": "code",
   "execution_count": 1,
   "metadata": {},
   "outputs": [],
   "source": [
    "def KatieCarTypes():\n",
    "    #Import neessary programs\n",
    "\n",
    "    import pandas as pd\n",
    "    import numpy as np\n",
    "    import matplotlib.pyplot as plt\n",
    "    \n",
    "    #File to load\n",
    "    file = \"parking-citations.csv\"\n",
    "    \n",
    "    #Load CSV\n",
    "    data = pd.read_csv(file, delimiter=\",\",dtype={'Ticket Number':str,'VIN':str,0:str},nrows=10000)\n",
    "    parkingdf = pd.DataFrame(data)\n",
    "    \n",
    "    #Minor cleaning\n",
    "    parkingdf = parkingdf.drop(labels = ['Ticket number', 'Meter Id', 'Marked Time', 'Plate Expiry Date', 'VIN', 'Route', 'Agency'], axis=1)\n",
    "    parkingdf = parkingdf.replace(to_replace='nan',value=np.nan)\n",
    "    parkingdf = parkingdf.dropna()\n",
    "    \n",
    "    #Look at car make values\n",
    "    parkingdf['Make'].value_counts().head(15)\n",
    "    \n",
    "    #Merge duplicate values\n",
    "    parkingdf = parkingdf.replace('TOYO', 'TOYT')\n",
    "    parkingdf['Make'].value_counts()\n",
    "    \n",
    "    #Create new variable to hold new values\n",
    "    make_counts = parkingdf[\"Make\"].value_counts()\n",
    "    \n",
    "    #Create new dataframe\n",
    "    car_make_df = pd.DataFrame(make_counts).head(10)\n",
    "    \n",
    "    #Rename column\n",
    "    car_make_df = car_make_df.rename(columns = {\"Make\" : \"Citations\"})\n",
    "    \n",
    "    #Create bar chart\n",
    "    x_axis = np.arange(0, len(car_make_df))\n",
    "    tick_locations = [value+0.4 for value in x_axis]\n",
    "\n",
    "    plt.title(\"Top Car Makes Receiving Citations\")\n",
    "    plt.xlabel(\"Car Make\")\n",
    "    plt.ylabel(\"Number of Citations\")\n",
    "\n",
    "    plt.xlim(-.25, len(car_make_df) - 0)\n",
    "    plt.ylim(0, max(car_make_df['Citations']) + 100)\n",
    "\n",
    "    plt.xticks(tick_locations, ('Toyota', 'Honda', 'Ford', 'Nissan', 'Chevrolet', 'BMW', 'Volkswagen', 'Mercedes', 'Dodge', 'Hyundai'), rotation = \"vertical\")\n",
    "    plt.bar(x_axis, car_make_df['Citations'], width=.85, facecolor=\"purple\", edgecolor=\"gold\", alpha=0.65, align=\"edge\")\n",
    "    #Save figure\n",
    "    plt.savefig(\"Output/CarMakesViolations.png\")\n",
    "    \n",
    "    parkingdf['Body Style'].value_counts()\n",
    "    \n",
    "    parkingdf = parkingdf.replace('TR', 'TK')\n",
    "    parkingdf = parkingdf.replace('VV', 'OT')\n",
    "    parkingdf = parkingdf.replace('UT', 'OT')\n",
    "    parkingdf = parkingdf.replace('HS', 'OT')\n",
    "    parkingdf['Body Style'].value_counts()\n",
    "    \n",
    "    body_counts = parkingdf['Body Style'].value_counts()\n",
    "    \n",
    "    car_body_df = pd.DataFrame(body_counts).head(10)\n",
    "    \n",
    "    car_body_df = car_body_df.rename(columns = {'Body Style' : 'Citations'})\n",
    "    \n",
    "    x_axis = np.arange(0, len(car_body_df))\n",
    "    tick_locations = [value+0.4 for value in x_axis]\n",
    "\n",
    "    plt.title(\"Car Body Styles Receiving Citations\")\n",
    "    plt.xlabel(\"Body Style\")\n",
    "    plt.ylabel(\"Number of Citations\")\n",
    "\n",
    "    plt.xlim(-.25, len(car_body_df) - 0)\n",
    "    plt.ylim(0, max(car_body_df['Citations']) + 100)\n",
    "\n",
    "    plt.xticks(tick_locations, ('Passenger', 'Truck', 'Pickup Truck', 'Van', 'CM', 'SUV', 'MH', 'MC', 'Other', 'RV'), rotation = \"vertical\")\n",
    "    plt.bar(x_axis, car_body_df['Citations'], width=.85, facecolor=\"purple\", edgecolor=\"gold\", alpha=0.65, align=\"edge\")\n",
    "    \n",
    "    plt.savefig(\"Output/CarBodyStyleViolations.png\")\n",
    "    \n",
    "    parkingdf[\"Color\"].value_counts().head(15)\n",
    "    \n",
    "    parkingdf = parkingdf.replace('WH', 'WT')\n",
    "    parkingdf = parkingdf.replace('SI', 'SL')\n",
    "    parkingdf[\"Color\"].value_counts()\n",
    "    \n",
    "    color_counts = parkingdf['Color'].value_counts()\n",
    "    \n",
    "    car_color_df = pd.DataFrame(color_counts).head(10)\n",
    "    \n",
    "    x_axis = np.arange(0, len(car_color_df))\n",
    "    tick_locations = [value+0.4 for value in x_axis]\n",
    "\n",
    "    plt.title(\"Top Car Colors Receiving Citations\")\n",
    "    plt.xlabel(\"Car Color\")\n",
    "    plt.ylabel(\"Number of Citations\")\n",
    "\n",
    "    plt.xlim(-.25, len(car_color_df) - 0)\n",
    "    plt.ylim(0, max(car_color_df['Color']) + 100)\n",
    "\n",
    "    plt.xticks(tick_locations, ('White', 'Black', 'Gray', 'Silver', 'Blue', 'Red', 'Green', 'Brown', 'Gold', 'Maroon'), rotation = \"vertical\")\n",
    "    plt.bar(x_axis, car_color_df['Color'], width=.85, facecolor= \"purple\", edgecolor=\"gold\", alpha=0.65, align=\"edge\")\n",
    "    \n",
    "    plt.savefig(\"Output/CarColorViolations.png\")"
   ]
  },
  {
   "cell_type": "code",
   "execution_count": null,
   "metadata": {},
   "outputs": [],
   "source": []
  },
  {
   "cell_type": "code",
   "execution_count": null,
   "metadata": {},
   "outputs": [],
   "source": []
  },
  {
   "cell_type": "code",
   "execution_count": null,
   "metadata": {},
   "outputs": [],
   "source": []
  },
  {
   "cell_type": "code",
   "execution_count": null,
   "metadata": {},
   "outputs": [],
   "source": []
  },
  {
   "cell_type": "code",
   "execution_count": null,
   "metadata": {},
   "outputs": [],
   "source": []
  },
  {
   "cell_type": "code",
   "execution_count": null,
   "metadata": {},
   "outputs": [],
   "source": []
  },
  {
   "cell_type": "code",
   "execution_count": null,
   "metadata": {},
   "outputs": [],
   "source": []
  },
  {
   "cell_type": "code",
   "execution_count": null,
   "metadata": {},
   "outputs": [],
   "source": []
  },
  {
   "cell_type": "code",
   "execution_count": null,
   "metadata": {},
   "outputs": [],
   "source": []
  },
  {
   "cell_type": "code",
   "execution_count": null,
   "metadata": {},
   "outputs": [],
   "source": []
  },
  {
   "cell_type": "code",
   "execution_count": null,
   "metadata": {},
   "outputs": [],
   "source": []
  },
  {
   "cell_type": "code",
   "execution_count": null,
   "metadata": {},
   "outputs": [],
   "source": []
  },
  {
   "cell_type": "code",
   "execution_count": null,
   "metadata": {},
   "outputs": [],
   "source": []
  },
  {
   "cell_type": "code",
   "execution_count": null,
   "metadata": {},
   "outputs": [],
   "source": []
  },
  {
   "cell_type": "code",
   "execution_count": null,
   "metadata": {},
   "outputs": [],
   "source": []
  },
  {
   "cell_type": "code",
   "execution_count": null,
   "metadata": {
    "scrolled": true
   },
   "outputs": [],
   "source": []
  },
  {
   "cell_type": "code",
   "execution_count": null,
   "metadata": {},
   "outputs": [],
   "source": []
  },
  {
   "cell_type": "code",
   "execution_count": null,
   "metadata": {},
   "outputs": [],
   "source": []
  },
  {
   "cell_type": "code",
   "execution_count": null,
   "metadata": {},
   "outputs": [],
   "source": []
  },
  {
   "cell_type": "code",
   "execution_count": null,
   "metadata": {},
   "outputs": [],
   "source": []
  },
  {
   "cell_type": "code",
   "execution_count": null,
   "metadata": {},
   "outputs": [],
   "source": []
  },
  {
   "cell_type": "code",
   "execution_count": null,
   "metadata": {},
   "outputs": [],
   "source": [
    "car_color_df = car_color_df.rename(columns = {'Color' : 'Citations'})\n",
    "car_color_df"
   ]
  },
  {
   "cell_type": "code",
   "execution_count": null,
   "metadata": {},
   "outputs": [],
   "source": [
    "#top_car_colors = car_color_df.loc[car_color_df['Citations'] >= 100]\n",
    "#top_car_colors"
   ]
  },
  {
   "cell_type": "code",
   "execution_count": null,
   "metadata": {},
   "outputs": [],
   "source": []
  },
  {
   "cell_type": "code",
   "execution_count": null,
   "metadata": {},
   "outputs": [],
   "source": []
  },
  {
   "cell_type": "code",
   "execution_count": null,
   "metadata": {},
   "outputs": [],
   "source": []
  },
  {
   "cell_type": "code",
   "execution_count": null,
   "metadata": {
    "scrolled": true
   },
   "outputs": [],
   "source": []
  },
  {
   "cell_type": "code",
   "execution_count": null,
   "metadata": {},
   "outputs": [],
   "source": []
  }
 ],
 "metadata": {
  "kernelspec": {
   "display_name": "Python 3",
   "language": "python",
   "name": "python3"
  },
  "language_info": {
   "codemirror_mode": {
    "name": "ipython",
    "version": 3
   },
   "file_extension": ".py",
   "mimetype": "text/x-python",
   "name": "python",
   "nbconvert_exporter": "python",
   "pygments_lexer": "ipython3",
   "version": "3.7.1"
  }
 },
 "nbformat": 4,
 "nbformat_minor": 2
}
