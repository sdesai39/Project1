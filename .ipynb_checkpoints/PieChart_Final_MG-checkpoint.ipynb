{
 "cells": [
  {
   "cell_type": "code",
   "execution_count": 1,
   "metadata": {},
   "outputs": [],
   "source": [
    "import pandas as pd\n",
    "import matplotlib.pyplot as plt\n",
    "import matplotlib.image as mpimg\n",
    "import numpy as np\n",
    "import random"
   ]
  },
  {
   "cell_type": "code",
   "execution_count": 2,
   "metadata": {},
   "outputs": [
    {
     "name": "stderr",
     "output_type": "stream",
     "text": [
      "C:\\Users\\madel\\Anaconda3\\lib\\site-packages\\IPython\\core\\interactiveshell.py:3020: DtypeWarning: Columns (0,7) have mixed types. Specify dtype option on import or set low_memory=False.\n",
      "  interactivity=interactivity, compiler=compiler, result=result)\n"
     ]
    }
   ],
   "source": [
    "file = \"../parking-citations.csv\"\n",
    "n = sum(1 for line in open(file)) - 1 #number of records in file (excludes header)\n",
    "s = 1000000 #desired sample size\n",
    "skip = sorted(random.sample(range(1,n+1),n-s)) #the 0-indexed header will not be included in the skip list\n",
    "parkingdf = pd.read_csv(file, skiprows=skip)"
   ]
  },
  {
   "cell_type": "code",
   "execution_count": 3,
   "metadata": {},
   "outputs": [],
   "source": [
    "parkingdf = parkingdf.drop(labels=['Meter Id','Ticket number','Marked Time','Plate Expiry Date','VIN','Route','Agency','Violation code'],axis=1)\n",
    "parkingdf = parkingdf.replace(to_replace='nan',value=np.nan)\n",
    "parkingdf = parkingdf.dropna()"
   ]
  },
  {
   "cell_type": "code",
   "execution_count": 4,
   "metadata": {},
   "outputs": [
    {
     "data": {
      "text/html": [
       "<div>\n",
       "<style scoped>\n",
       "    .dataframe tbody tr th:only-of-type {\n",
       "        vertical-align: middle;\n",
       "    }\n",
       "\n",
       "    .dataframe tbody tr th {\n",
       "        vertical-align: top;\n",
       "    }\n",
       "\n",
       "    .dataframe thead th {\n",
       "        text-align: right;\n",
       "    }\n",
       "</style>\n",
       "<table border=\"1\" class=\"dataframe\">\n",
       "  <thead>\n",
       "    <tr style=\"text-align: right;\">\n",
       "      <th></th>\n",
       "      <th>Count of Violations</th>\n",
       "    </tr>\n",
       "  </thead>\n",
       "  <tbody>\n",
       "    <tr>\n",
       "      <th>NO PARK/STREET CLEAN</th>\n",
       "      <td>289276</td>\n",
       "    </tr>\n",
       "    <tr>\n",
       "      <th>METER EXP.</th>\n",
       "      <td>173547</td>\n",
       "    </tr>\n",
       "    <tr>\n",
       "      <th>RED ZONE</th>\n",
       "      <td>74567</td>\n",
       "    </tr>\n",
       "    <tr>\n",
       "      <th>PREFERENTIAL PARKING</th>\n",
       "      <td>68637</td>\n",
       "    </tr>\n",
       "    <tr>\n",
       "      <th>DISPLAY OF TABS</th>\n",
       "      <td>61466</td>\n",
       "    </tr>\n",
       "  </tbody>\n",
       "</table>\n",
       "</div>"
      ],
      "text/plain": [
       "                      Count of Violations\n",
       "NO PARK/STREET CLEAN               289276\n",
       "METER EXP.                         173547\n",
       "RED ZONE                            74567\n",
       "PREFERENTIAL PARKING                68637\n",
       "DISPLAY OF TABS                     61466"
      ]
     },
     "execution_count": 4,
     "metadata": {},
     "output_type": "execute_result"
    }
   ],
   "source": [
    "#Madeline clean work start here\n",
    "\n",
    "unique_vios = parkingdf['Violation Description'].unique()\n",
    "len(unique_vios)\n",
    "vio_counts = parkingdf['Violation Description'].value_counts()\n",
    "vio_summary_table = pd.DataFrame({\"Count of Violations\": vio_counts})\n",
    "vio_summary_table.head()"
   ]
  },
  {
   "cell_type": "code",
   "execution_count": 5,
   "metadata": {},
   "outputs": [
    {
     "data": {
      "text/html": [
       "<div>\n",
       "<style scoped>\n",
       "    .dataframe tbody tr th:only-of-type {\n",
       "        vertical-align: middle;\n",
       "    }\n",
       "\n",
       "    .dataframe tbody tr th {\n",
       "        vertical-align: top;\n",
       "    }\n",
       "\n",
       "    .dataframe thead th {\n",
       "        text-align: right;\n",
       "    }\n",
       "</style>\n",
       "<table border=\"1\" class=\"dataframe\">\n",
       "  <thead>\n",
       "    <tr style=\"text-align: right;\">\n",
       "      <th></th>\n",
       "      <th>Violation Description</th>\n",
       "      <th>Issue Date</th>\n",
       "    </tr>\n",
       "  </thead>\n",
       "  <tbody>\n",
       "    <tr>\n",
       "      <th>0</th>\n",
       "      <td>NO PARK/STREET CLEAN</td>\n",
       "      <td>289276</td>\n",
       "    </tr>\n",
       "    <tr>\n",
       "      <th>1</th>\n",
       "      <td>METER EXP.</td>\n",
       "      <td>173547</td>\n",
       "    </tr>\n",
       "    <tr>\n",
       "      <th>2</th>\n",
       "      <td>RED ZONE</td>\n",
       "      <td>74567</td>\n",
       "    </tr>\n",
       "    <tr>\n",
       "      <th>3</th>\n",
       "      <td>PREFERENTIAL PARKING</td>\n",
       "      <td>68637</td>\n",
       "    </tr>\n",
       "    <tr>\n",
       "      <th>4</th>\n",
       "      <td>DISPLAY OF TABS</td>\n",
       "      <td>61466</td>\n",
       "    </tr>\n",
       "  </tbody>\n",
       "</table>\n",
       "</div>"
      ],
      "text/plain": [
       "  Violation Description  Issue Date\n",
       "0  NO PARK/STREET CLEAN      289276\n",
       "1            METER EXP.      173547\n",
       "2              RED ZONE       74567\n",
       "3  PREFERENTIAL PARKING       68637\n",
       "4       DISPLAY OF TABS       61466"
      ]
     },
     "execution_count": 5,
     "metadata": {},
     "output_type": "execute_result"
    }
   ],
   "source": [
    "\n",
    "grouped_vios_df = parkingdf.groupby(['Violation Description']).count()\n",
    "sorted_df = grouped_vios_df.sort_values(by ='Issue Date', ascending =False)\n",
    "sorted_df= sorted_df.reset_index()\n",
    "raw_vios_df = sorted_df[[\"Violation Description\",\"Issue Date\"]]\n",
    "raw_vios_df.rename(index=str, columns={\"Issue Date\": \"Count of Specific Violation\"})\n",
    "raw_vios_df.head()\n",
    "\n",
    "#np.savetxt('final_vios.csv', final_vios,fmt='%s',delimiter=',')"
   ]
  },
  {
   "cell_type": "code",
   "execution_count": 21,
   "metadata": {},
   "outputs": [],
   "source": [
    "#Violations Sweep - update Violation Descriptions based on industry knowledge and format for standardizing violation details.\n",
    "\n",
    "#no parking\n",
    "descs = raw_vios_df['Violation Description']\n",
    "nopark = descs.str.contains('NO PARK')\n",
    "descs = np.where(nopark, 'NO PARKING PERMITTED', descs.str.replace('-', ' '))\n",
    "raw_vios_df['Violation Description'] = descs"
   ]
  },
  {
   "cell_type": "code",
   "execution_count": 7,
   "metadata": {},
   "outputs": [
    {
     "name": "stderr",
     "output_type": "stream",
     "text": [
      "C:\\Users\\madel\\Anaconda3\\lib\\site-packages\\ipykernel_launcher.py:5: SettingWithCopyWarning: \n",
      "A value is trying to be set on a copy of a slice from a DataFrame.\n",
      "Try using .loc[row_indexer,col_indexer] = value instead\n",
      "\n",
      "See the caveats in the documentation: http://pandas.pydata.org/pandas-docs/stable/indexing.html#indexing-view-versus-copy\n",
      "  \"\"\"\n"
     ]
    }
   ],
   "source": [
    "#no blocking\n",
    "descs = raw_vios_df['Violation Description']\n",
    "noblock = descs.str.contains('BLOCK')\n",
    "descs = np.where(noblock, 'BLOCKING', descs.str.replace('-', ' '))\n",
    "raw_vios_df['Violation Description'] = descs"
   ]
  },
  {
   "cell_type": "code",
   "execution_count": 8,
   "metadata": {},
   "outputs": [
    {
     "name": "stderr",
     "output_type": "stream",
     "text": [
      "C:\\Users\\madel\\Anaconda3\\lib\\site-packages\\ipykernel_launcher.py:5: SettingWithCopyWarning: \n",
      "A value is trying to be set on a copy of a slice from a DataFrame.\n",
      "Try using .loc[row_indexer,col_indexer] = value instead\n",
      "\n",
      "See the caveats in the documentation: http://pandas.pydata.org/pandas-docs/stable/indexing.html#indexing-view-versus-copy\n",
      "  \"\"\"\n"
     ]
    }
   ],
   "source": [
    "#no curb\n",
    "descs = raw_vios_df['Violation Description']\n",
    "curb = descs.str.contains('CURB')\n",
    "descs = np.where(curb, 'CURB', descs.str.replace('-', ' '))\n",
    "raw_vios_df['Violation Description'] = descs"
   ]
  },
  {
   "cell_type": "code",
   "execution_count": 9,
   "metadata": {},
   "outputs": [
    {
     "name": "stderr",
     "output_type": "stream",
     "text": [
      "C:\\Users\\madel\\Anaconda3\\lib\\site-packages\\ipykernel_launcher.py:6: SettingWithCopyWarning: \n",
      "A value is trying to be set on a copy of a slice from a DataFrame.\n",
      "Try using .loc[row_indexer,col_indexer] = value instead\n",
      "\n",
      "See the caveats in the documentation: http://pandas.pydata.org/pandas-docs/stable/indexing.html#indexing-view-versus-copy\n",
      "  \n"
     ]
    }
   ],
   "source": [
    "#meter expired\n",
    "descs = raw_vios_df['Violation Description']\n",
    "meter = descs.str.contains('METER|OVER TIME|OVERTIME')\n",
    "meter\n",
    "descs = np.where(meter, 'METER EXPIRED', descs.str.replace('-', ' '))\n",
    "raw_vios_df['Violation Description'] = descs"
   ]
  },
  {
   "cell_type": "code",
   "execution_count": 10,
   "metadata": {},
   "outputs": [
    {
     "name": "stderr",
     "output_type": "stream",
     "text": [
      "C:\\Users\\madel\\Anaconda3\\lib\\site-packages\\ipykernel_launcher.py:5: SettingWithCopyWarning: \n",
      "A value is trying to be set on a copy of a slice from a DataFrame.\n",
      "Try using .loc[row_indexer,col_indexer] = value instead\n",
      "\n",
      "See the caveats in the documentation: http://pandas.pydata.org/pandas-docs/stable/indexing.html#indexing-view-versus-copy\n",
      "  \"\"\"\n"
     ]
    }
   ],
   "source": [
    "#zones\n",
    "descs = raw_vios_df['Violation Description']\n",
    "zone = descs.str.contains('ZONE')\n",
    "descs = np.where(zone, 'ILLEGAL ZONE', descs.str.replace('-', ' '))\n",
    "raw_vios_df['Violation Description'] = descs"
   ]
  },
  {
   "cell_type": "code",
   "execution_count": 11,
   "metadata": {},
   "outputs": [
    {
     "name": "stderr",
     "output_type": "stream",
     "text": [
      "C:\\Users\\madel\\Anaconda3\\lib\\site-packages\\ipykernel_launcher.py:5: SettingWithCopyWarning: \n",
      "A value is trying to be set on a copy of a slice from a DataFrame.\n",
      "Try using .loc[row_indexer,col_indexer] = value instead\n",
      "\n",
      "See the caveats in the documentation: http://pandas.pydata.org/pandas-docs/stable/indexing.html#indexing-view-versus-copy\n",
      "  \"\"\"\n"
     ]
    }
   ],
   "source": [
    "#pref parking\n",
    "descs = raw_vios_df['Violation Description']\n",
    "pref = descs.str.contains('PREF')\n",
    "descs = np.where(pref, 'PREFERENTIAL PARKING', descs.str.replace('-', ' '))\n",
    "raw_vios_df['Violation Description'] = descs"
   ]
  },
  {
   "cell_type": "code",
   "execution_count": 22,
   "metadata": {},
   "outputs": [
    {
     "data": {
      "text/html": [
       "<div>\n",
       "<style scoped>\n",
       "    .dataframe tbody tr th:only-of-type {\n",
       "        vertical-align: middle;\n",
       "    }\n",
       "\n",
       "    .dataframe tbody tr th {\n",
       "        vertical-align: top;\n",
       "    }\n",
       "\n",
       "    .dataframe thead th {\n",
       "        text-align: right;\n",
       "    }\n",
       "</style>\n",
       "<table border=\"1\" class=\"dataframe\">\n",
       "  <thead>\n",
       "    <tr style=\"text-align: right;\">\n",
       "      <th></th>\n",
       "      <th>Violation Description</th>\n",
       "      <th>Count of Violation</th>\n",
       "    </tr>\n",
       "  </thead>\n",
       "  <tbody>\n",
       "    <tr>\n",
       "      <th>0</th>\n",
       "      <td>NO PARKING PERMITTED</td>\n",
       "      <td>334801</td>\n",
       "    </tr>\n",
       "    <tr>\n",
       "      <th>1</th>\n",
       "      <td>METER EXPIRED</td>\n",
       "      <td>224876</td>\n",
       "    </tr>\n",
       "    <tr>\n",
       "      <th>2</th>\n",
       "      <td>ILLEGAL ZONE</td>\n",
       "      <td>116424</td>\n",
       "    </tr>\n",
       "    <tr>\n",
       "      <th>3</th>\n",
       "      <td>PREFERENTIAL PARKING</td>\n",
       "      <td>70065</td>\n",
       "    </tr>\n",
       "    <tr>\n",
       "      <th>4</th>\n",
       "      <td>DISPLAY OF TABS</td>\n",
       "      <td>61466</td>\n",
       "    </tr>\n",
       "    <tr>\n",
       "      <th>5</th>\n",
       "      <td>DISPLAY OF PLATES</td>\n",
       "      <td>27470</td>\n",
       "    </tr>\n",
       "    <tr>\n",
       "      <th>6</th>\n",
       "      <td>NO STOP/STANDING</td>\n",
       "      <td>18097</td>\n",
       "    </tr>\n",
       "    <tr>\n",
       "      <th>7</th>\n",
       "      <td>STANDNG IN ALLEY</td>\n",
       "      <td>14008</td>\n",
       "    </tr>\n",
       "    <tr>\n",
       "      <th>8</th>\n",
       "      <td>CURB</td>\n",
       "      <td>13644</td>\n",
       "    </tr>\n",
       "    <tr>\n",
       "      <th>9</th>\n",
       "      <td>BLOCKING</td>\n",
       "      <td>12491</td>\n",
       "    </tr>\n",
       "  </tbody>\n",
       "</table>\n",
       "</div>"
      ],
      "text/plain": [
       "  Violation Description  Count of Violation\n",
       "0  NO PARKING PERMITTED              334801\n",
       "1         METER EXPIRED              224876\n",
       "2          ILLEGAL ZONE              116424\n",
       "3  PREFERENTIAL PARKING               70065\n",
       "4       DISPLAY OF TABS               61466\n",
       "5     DISPLAY OF PLATES               27470\n",
       "6      NO STOP/STANDING               18097\n",
       "7      STANDNG IN ALLEY               14008\n",
       "8                  CURB               13644\n",
       "9              BLOCKING               12491"
      ]
     },
     "execution_count": 22,
     "metadata": {},
     "output_type": "execute_result"
    }
   ],
   "source": [
    "#Top 10 parking violation issues\n",
    "\n",
    "final_group = raw_vios_df.groupby('Violation Description').sum()\n",
    "sorted_df = final_group.sort_values(by ='Issue Date', ascending =False)\n",
    "sorted_df= sorted_df.reset_index()\n",
    "final_vios = sorted_df.rename(index=str, columns={\"Issue Date\":\"Count of Violation\"})\n",
    "final_vios.head(10)\n",
    "\n",
    "#np.savetxt('standardized_parking_vios2.csv', final_vios,fmt='%s',delimiter=',')"
   ]
  },
  {
   "cell_type": "code",
   "execution_count": 44,
   "metadata": {},
   "outputs": [
    {
     "data": {
      "image/png": "[encoded data removed]",
      "text/plain": [
       "<Figure size 432x288 with 1 Axes>"
      ]
     },
     "metadata": {},
     "output_type": "display_data"
    }
   ],
   "source": [
    "# Pie chart, where the slices will be ordered and plotted counter-clockwise:\n",
    "\n",
    "#just working with the top 10 [standardized] issues. Account for ~90% of violations.\n",
    "top_10 = final_vios.nlargest(10, ['Count of Violation']) \n",
    "labels = top_10['Violation Description']\n",
    "sizes = top_10['Count of Violation']\n",
    "explode = [.05, 0, 0, 0, 0, 0, 0, 0, 0, 0]\n",
    "\n",
    "fig1, ax1 = plt.subplots()\n",
    "ax1.pie(sizes, autopct='%1.f%%',explode=explode, shadow=True, startangle=45, pctdistance = .75)\n",
    "ax1.axis('equal')  # Equal aspect ratio ensures that pie is drawn as a circle.\n",
    "plt.legend(labels = labels, loc='center left', bbox_to_anchor=(1, 0.4))\n",
    "\n",
    "plt.savefig(\"Output/violations_pie_chart.png\")\n",
    "plt.show()"
   ]
  },
  {
   "cell_type": "code",
   "execution_count": null,
   "metadata": {},
   "outputs": [],
   "source": []
  }
 ],
 "metadata": {
  "kernelspec": {
   "display_name": "Python 3",
   "language": "python",
   "name": "python3"
  },
  "language_info": {
   "codemirror_mode": {
    "name": "ipython",
    "version": 3
   },
   "file_extension": ".py",
   "mimetype": "text/x-python",
   "name": "python",
   "nbconvert_exporter": "python",
   "pygments_lexer": "ipython3",
   "version": "3.7.1"
  }
 },
 "nbformat": 4,
 "nbformat_minor": 2
}
